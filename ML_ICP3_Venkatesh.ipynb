{
 "cells": [
  {
   "cell_type": "code",
   "execution_count": 1,
   "metadata": {
    "colab": {
     "base_uri": "https://localhost:8080/"
    },
    "executionInfo": {
     "elapsed": 190,
     "status": "ok",
     "timestamp": 1718037398220,
     "user": {
      "displayName": "Surya Roy",
      "userId": "08158062130411191783"
     },
     "user_tz": 300
    },
    "id": "2d-YUQcy-cUO",
    "outputId": "83cdfe54-8178-4c6f-d443-b982b4b273d7"
   },
   "outputs": [
    {
     "name": "stdout",
     "output_type": "stream",
     "text": [
      "Reshaped Array with Maximum in Each Row Replaced by 0:\n",
      " [[ 0  7  4  4  1]\n",
      " [ 1  2  0  3 18]\n",
      " [ 6  0  6 10  7]]\n",
      "\n",
      "New 2D Array:\n",
      " [[ 1  2  3]\n",
      " [ 4  5  6]\n",
      " [ 7  8  9]\n",
      " [10 11 12]]\n",
      "Shape: (4, 3)\n",
      "Type: <class 'numpy.ndarray'>\n",
      "Data Type: int32\n"
     ]
    }
   ],
   "source": [
    "import numpy as np\n",
    "\n",
    "random_vector = np.random.randint(1, 21, size=15)\n",
    "reshaped_array = random_vector.reshape(3, 5)\n",
    "\n",
    "for row in range(reshaped_array.shape[0]):\n",
    "    max_value = np.max(reshaped_array[row])\n",
    "    reshaped_array[row][reshaped_array[row] == max_value] = 0\n",
    "\n",
    "print(\"Reshaped Array with Maximum in Each Row Replaced by 0:\\n\", reshaped_array)\n",
    "\n",
    "new_array = np.array([[1, 2, 3], [4, 5, 6], [7, 8, 9], [10, 11, 12]], dtype=np.int32)\n",
    "print(\"\\nNew 2D Array:\\n\", new_array)\n",
    "print(\"Shape:\", new_array.shape)\n",
    "print(\"Type:\", type(new_array))\n",
    "print(\"Data Type:\", new_array.dtype)"
   ]
  },
  {
   "cell_type": "code",
   "execution_count": 2,
   "metadata": {
    "colab": {
     "base_uri": "https://localhost:8080/"
    },
    "executionInfo": {
     "elapsed": 207,
     "status": "ok",
     "timestamp": 1718037497214,
     "user": {
      "displayName": "Surya Roy",
      "userId": "08158062130411191783"
     },
     "user_tz": 300
    },
    "id": "UtyjjApiAljM",
    "outputId": "1b12d83f-0991-45a3-ef59-cc47d072e82e"
   },
   "outputs": [
    {
     "name": "stdout",
     "output_type": "stream",
     "text": [
      "Eigenvalues:\n",
      "[2. 1.]\n",
      "\n",
      "Right Eigenvectors:\n",
      "[[0.89442719 0.70710678]\n",
      " [0.4472136  0.70710678]]\n"
     ]
    }
   ],
   "source": [
    "import numpy as np\n",
    "\n",
    "A = np.array([[3, -2], [1, 0]])\n",
    "\n",
    "eigenvalues, eigenvectors = np.linalg.eig(A)\n",
    "\n",
    "print(\"Eigenvalues:\")\n",
    "print(eigenvalues)\n",
    "\n",
    "print(\"\\nRight Eigenvectors:\")\n",
    "print(eigenvectors)"
   ]
  },
  {
   "cell_type": "code",
   "execution_count": 3,
   "metadata": {
    "colab": {
     "base_uri": "https://localhost:8080/"
    },
    "executionInfo": {
     "elapsed": 177,
     "status": "ok",
     "timestamp": 1718037554939,
     "user": {
      "displayName": "Surya Roy",
      "userId": "08158062130411191783"
     },
     "user_tz": 300
    },
    "id": "ym3qWSlrA_Ew",
    "outputId": "fc9dd3e0-e881-4113-c77f-3410d1249abd"
   },
   "outputs": [
    {
     "name": "stdout",
     "output_type": "stream",
     "text": [
      "Given Array:\n",
      "[[0 1 2]\n",
      " [3 4 5]]\n",
      "\n",
      "Sum of Diagonal Elements: 4\n"
     ]
    }
   ],
   "source": [
    "import numpy as np\n",
    "\n",
    "arr = np.array([[0, 1, 2], [3, 4, 5]])\n",
    "\n",
    "diagonal_sum = np.trace(arr)\n",
    "\n",
    "print(\"Given Array:\")\n",
    "print(arr)\n",
    "\n",
    "print(\"\\nSum of Diagonal Elements:\", diagonal_sum)"
   ]
  },
  {
   "cell_type": "code",
   "execution_count": 4,
   "metadata": {
    "colab": {
     "base_uri": "https://localhost:8080/"
    },
    "executionInfo": {
     "elapsed": 178,
     "status": "ok",
     "timestamp": 1718037854947,
     "user": {
      "displayName": "Surya Roy",
      "userId": "08158062130411191783"
     },
     "user_tz": 300
    },
    "id": "4I7gKNIYCFw2",
    "outputId": "7d535d04-b222-4ad2-de75-706392996b6c"
   },
   "outputs": [
    {
     "name": "stdout",
     "output_type": "stream",
     "text": [
      "Original array:\n",
      " [[1 2]\n",
      " [3 4]\n",
      " [5 6]]\n",
      "\n",
      "Reshaped to 2x3:\n",
      " [[1 2 3]\n",
      " [4 5 6]]\n",
      "\n",
      "Reshaped back to 3x2:\n",
      " [[1 2]\n",
      " [3 4]\n",
      " [5 6]]\n"
     ]
    }
   ],
   "source": [
    "import numpy as np\n",
    "\n",
    "arr = np.array([[1, 2], [3, 4], [5, 6]])\n",
    "print(\"Original array:\\n\", arr)\n",
    "\n",
    "arr_reshaped_2x3 = arr.reshape(2, 3)\n",
    "print(\"\\nReshaped to 2x3:\\n\", arr_reshaped_2x3)\n",
    "\n",
    "arr_reshaped_3x2 = arr_reshaped_2x3.reshape(3, 2)\n",
    "print(\"\\nReshaped back to 3x2:\\n\", arr_reshaped_3x2)"
   ]
  }
 ],
 "metadata": {
  "colab": {
   "authorship_tag": "ABX9TyPe83OJQ6u5AgTC3x4XY9Z8",
   "provenance": []
  },
  "kernelspec": {
   "display_name": "Python 3 (ipykernel)",
   "language": "python",
   "name": "python3"
  },
  "language_info": {
   "codemirror_mode": {
    "name": "ipython",
    "version": 3
   },
   "file_extension": ".py",
   "mimetype": "text/x-python",
   "name": "python",
   "nbconvert_exporter": "python",
   "pygments_lexer": "ipython3",
   "version": "3.11.7"
  }
 },
 "nbformat": 4,
 "nbformat_minor": 4
}
